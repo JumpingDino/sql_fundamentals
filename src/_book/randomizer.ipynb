{
 "cells": [
  {
   "cell_type": "code",
   "execution_count": 12,
   "id": "d849f446",
   "metadata": {},
   "outputs": [
    {
     "name": "stdout",
     "output_type": "stream",
     "text": [
      "Randomly selected questions: [3, 24, 33, 48, 50, 55, 70, 80, 88, 113, 117, 124, 126, 167, 169, 178, 193, 203, 207, 233, 242, 258, 267, 268, 269, 270, 283, 286, 294, 299]\n"
     ]
    }
   ],
   "source": [
    "import numpy as np\n",
    "import random\n",
    "\n",
    "questions = np.linspace(1, 300,300)\n",
    "\n",
    "#choose 30 random questions\n",
    "random_questions = random.sample(list(questions), 30)\n",
    "random_questions.sort()\n",
    "random_questions = [int(q) for q in random_questions]\n",
    "print(\"Randomly selected questions:\", random_questions)"
   ]
  },
  {
   "cell_type": "code",
   "execution_count": 13,
   "id": "31d01499",
   "metadata": {},
   "outputs": [
    {
     "data": {
      "application/vnd.microsoft.datawrangler.viewer.v0+json": {
       "columns": [
        {
         "name": "index",
         "rawType": "int64",
         "type": "integer"
        },
        {
         "name": "question_number",
         "rawType": "int64",
         "type": "integer"
        }
       ],
       "ref": "cdffda1b-ecb4-481f-bd6e-618c9ce5cf35",
       "rows": [
        [
         "0",
         "3"
        ],
        [
         "1",
         "24"
        ],
        [
         "2",
         "33"
        ],
        [
         "3",
         "48"
        ],
        [
         "4",
         "50"
        ],
        [
         "5",
         "55"
        ],
        [
         "6",
         "70"
        ],
        [
         "7",
         "80"
        ],
        [
         "8",
         "88"
        ],
        [
         "9",
         "113"
        ],
        [
         "10",
         "117"
        ],
        [
         "11",
         "124"
        ],
        [
         "12",
         "126"
        ],
        [
         "13",
         "167"
        ],
        [
         "14",
         "169"
        ],
        [
         "15",
         "178"
        ],
        [
         "16",
         "193"
        ],
        [
         "17",
         "203"
        ],
        [
         "18",
         "207"
        ],
        [
         "19",
         "233"
        ],
        [
         "20",
         "242"
        ],
        [
         "21",
         "258"
        ],
        [
         "22",
         "267"
        ],
        [
         "23",
         "268"
        ],
        [
         "24",
         "269"
        ],
        [
         "25",
         "270"
        ],
        [
         "26",
         "283"
        ],
        [
         "27",
         "286"
        ],
        [
         "28",
         "294"
        ],
        [
         "29",
         "299"
        ]
       ],
       "shape": {
        "columns": 1,
        "rows": 30
       }
      },
      "text/html": [
       "<div>\n",
       "<style scoped>\n",
       "    .dataframe tbody tr th:only-of-type {\n",
       "        vertical-align: middle;\n",
       "    }\n",
       "\n",
       "    .dataframe tbody tr th {\n",
       "        vertical-align: top;\n",
       "    }\n",
       "\n",
       "    .dataframe thead th {\n",
       "        text-align: right;\n",
       "    }\n",
       "</style>\n",
       "<table border=\"1\" class=\"dataframe\">\n",
       "  <thead>\n",
       "    <tr style=\"text-align: right;\">\n",
       "      <th></th>\n",
       "      <th>question_number</th>\n",
       "    </tr>\n",
       "  </thead>\n",
       "  <tbody>\n",
       "    <tr>\n",
       "      <th>0</th>\n",
       "      <td>3</td>\n",
       "    </tr>\n",
       "    <tr>\n",
       "      <th>1</th>\n",
       "      <td>24</td>\n",
       "    </tr>\n",
       "    <tr>\n",
       "      <th>2</th>\n",
       "      <td>33</td>\n",
       "    </tr>\n",
       "    <tr>\n",
       "      <th>3</th>\n",
       "      <td>48</td>\n",
       "    </tr>\n",
       "    <tr>\n",
       "      <th>4</th>\n",
       "      <td>50</td>\n",
       "    </tr>\n",
       "    <tr>\n",
       "      <th>5</th>\n",
       "      <td>55</td>\n",
       "    </tr>\n",
       "    <tr>\n",
       "      <th>6</th>\n",
       "      <td>70</td>\n",
       "    </tr>\n",
       "    <tr>\n",
       "      <th>7</th>\n",
       "      <td>80</td>\n",
       "    </tr>\n",
       "    <tr>\n",
       "      <th>8</th>\n",
       "      <td>88</td>\n",
       "    </tr>\n",
       "    <tr>\n",
       "      <th>9</th>\n",
       "      <td>113</td>\n",
       "    </tr>\n",
       "    <tr>\n",
       "      <th>10</th>\n",
       "      <td>117</td>\n",
       "    </tr>\n",
       "    <tr>\n",
       "      <th>11</th>\n",
       "      <td>124</td>\n",
       "    </tr>\n",
       "    <tr>\n",
       "      <th>12</th>\n",
       "      <td>126</td>\n",
       "    </tr>\n",
       "    <tr>\n",
       "      <th>13</th>\n",
       "      <td>167</td>\n",
       "    </tr>\n",
       "    <tr>\n",
       "      <th>14</th>\n",
       "      <td>169</td>\n",
       "    </tr>\n",
       "    <tr>\n",
       "      <th>15</th>\n",
       "      <td>178</td>\n",
       "    </tr>\n",
       "    <tr>\n",
       "      <th>16</th>\n",
       "      <td>193</td>\n",
       "    </tr>\n",
       "    <tr>\n",
       "      <th>17</th>\n",
       "      <td>203</td>\n",
       "    </tr>\n",
       "    <tr>\n",
       "      <th>18</th>\n",
       "      <td>207</td>\n",
       "    </tr>\n",
       "    <tr>\n",
       "      <th>19</th>\n",
       "      <td>233</td>\n",
       "    </tr>\n",
       "    <tr>\n",
       "      <th>20</th>\n",
       "      <td>242</td>\n",
       "    </tr>\n",
       "    <tr>\n",
       "      <th>21</th>\n",
       "      <td>258</td>\n",
       "    </tr>\n",
       "    <tr>\n",
       "      <th>22</th>\n",
       "      <td>267</td>\n",
       "    </tr>\n",
       "    <tr>\n",
       "      <th>23</th>\n",
       "      <td>268</td>\n",
       "    </tr>\n",
       "    <tr>\n",
       "      <th>24</th>\n",
       "      <td>269</td>\n",
       "    </tr>\n",
       "    <tr>\n",
       "      <th>25</th>\n",
       "      <td>270</td>\n",
       "    </tr>\n",
       "    <tr>\n",
       "      <th>26</th>\n",
       "      <td>283</td>\n",
       "    </tr>\n",
       "    <tr>\n",
       "      <th>27</th>\n",
       "      <td>286</td>\n",
       "    </tr>\n",
       "    <tr>\n",
       "      <th>28</th>\n",
       "      <td>294</td>\n",
       "    </tr>\n",
       "    <tr>\n",
       "      <th>29</th>\n",
       "      <td>299</td>\n",
       "    </tr>\n",
       "  </tbody>\n",
       "</table>\n",
       "</div>"
      ],
      "text/plain": [
       "    question_number\n",
       "0                 3\n",
       "1                24\n",
       "2                33\n",
       "3                48\n",
       "4                50\n",
       "5                55\n",
       "6                70\n",
       "7                80\n",
       "8                88\n",
       "9               113\n",
       "10              117\n",
       "11              124\n",
       "12              126\n",
       "13              167\n",
       "14              169\n",
       "15              178\n",
       "16              193\n",
       "17              203\n",
       "18              207\n",
       "19              233\n",
       "20              242\n",
       "21              258\n",
       "22              267\n",
       "23              268\n",
       "24              269\n",
       "25              270\n",
       "26              283\n",
       "27              286\n",
       "28              294\n",
       "29              299"
      ]
     },
     "execution_count": 13,
     "metadata": {},
     "output_type": "execute_result"
    }
   ],
   "source": [
    "import pandas as pd\n",
    "list_to_df = random_questions\n",
    "pd.DataFrame(list_to_df, columns=['question_number'])"
   ]
  },
  {
   "cell_type": "code",
   "execution_count": null,
   "id": "e0ab7a8b",
   "metadata": {},
   "outputs": [],
   "source": []
  }
 ],
 "metadata": {
  "kernelspec": {
   "display_name": "3.12.2",
   "language": "python",
   "name": "python3"
  },
  "language_info": {
   "codemirror_mode": {
    "name": "ipython",
    "version": 3
   },
   "file_extension": ".py",
   "mimetype": "text/x-python",
   "name": "python",
   "nbconvert_exporter": "python",
   "pygments_lexer": "ipython3",
   "version": "3.12.2"
  }
 },
 "nbformat": 4,
 "nbformat_minor": 5
}
